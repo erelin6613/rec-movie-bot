{
 "cells": [
  {
   "cell_type": "code",
   "execution_count": 1,
   "metadata": {},
   "outputs": [],
   "source": [
    "#!pip3 install -q pyspark"
   ]
  },
  {
   "cell_type": "code",
   "execution_count": 2,
   "metadata": {},
   "outputs": [],
   "source": [
    "import os\n",
    "import numpy as np\n",
    "import pandas as pd\n",
    "from tqdm.notebook import tqdm\n",
    "#from langdetect import detect\n",
    "from IPython.core.interactiveshell import InteractiveShell\n",
    "InteractiveShell.ast_node_interactivity = \"all\""
   ]
  },
  {
   "cell_type": "code",
   "execution_count": 3,
   "metadata": {},
   "outputs": [
    {
     "data": {
      "text/plain": [
       "['name.basics.tsv',\n",
       " 'title.basics.tsv',\n",
       " 'title.crew.tsv',\n",
       " 'title.ratings.tsv',\n",
       " '.ipynb_checkpoints',\n",
       " 'title.akas.tsv',\n",
       " 'title.episode.tsv',\n",
       " 'Untitled.ipynb',\n",
       " 'title.principals.tsv']"
      ]
     },
     "execution_count": 3,
     "metadata": {},
     "output_type": "execute_result"
    }
   ],
   "source": [
    "os.listdir('.')"
   ]
  },
  {
   "cell_type": "code",
   "execution_count": 4,
   "metadata": {},
   "outputs": [],
   "source": [
    "import pyspark as spark\n",
    "import pyspark.sql.functions as F\n",
    "import pyspark.ml as ml\n",
    "import pyspark.mllib as mllib\n",
    "from pyspark.sql.types import *"
   ]
  },
  {
   "cell_type": "code",
   "execution_count": 5,
   "metadata": {},
   "outputs": [],
   "source": [
    "sc = spark.SparkContext()\n",
    "sql = spark.sql.SQLContext(sc)"
   ]
  },
  {
   "cell_type": "code",
   "execution_count": 6,
   "metadata": {},
   "outputs": [],
   "source": [
    "df = sql.read.csv('title.basics.tsv', sep=r'\\t', header=True)\n",
    "# df.show()"
   ]
  },
  {
   "cell_type": "code",
   "execution_count": 7,
   "metadata": {},
   "outputs": [
    {
     "name": "stdout",
     "output_type": "stream",
     "text": [
      "+---------+---------+--------------------+--------------------+-------+---------+--------------+--------------------+\n",
      "|   tconst|titleType|        primaryTitle|       originalTitle|isAdult|startYear|runtimeMinutes|              genres|\n",
      "+---------+---------+--------------------+--------------------+-------+---------+--------------+--------------------+\n",
      "|tt0015414|    movie|La tierra de los ...|La tierra de los ...|      0|     2000|            60|                  \\N|\n",
      "|tt0015724|    movie|       Dama de noche|       Dama de noche|      0|     1993|           102|Drama,Mystery,Rom...|\n",
      "|tt0016906|    movie|          Frivolinas|          Frivolinas|      0|     2014|            80|      Comedy,Musical|\n",
      "+---------+---------+--------------------+--------------------+-------+---------+--------------+--------------------+\n",
      "only showing top 3 rows\n",
      "\n"
     ]
    }
   ],
   "source": [
    "#df.select(df['titleType']=='movie').show(2)\n",
    "df = df.drop('endYear')\n",
    "df = df.filter((df.titleType=='movie')|(df.titleType=='tvMovie')) #.show(3)\n",
    "df = df.filter(df.startYear>1950)\n",
    "df.show(3)"
   ]
  },
  {
   "cell_type": "code",
   "execution_count": 8,
   "metadata": {},
   "outputs": [
    {
     "name": "stdout",
     "output_type": "stream",
     "text": [
      "+---------+--------+----------+------+--------+-----------+-------------+---------------+\n",
      "|  titleId|ordering|     title|region|language|      types|   attributes|isOriginalTitle|\n",
      "+---------+--------+----------+------+--------+-----------+-------------+---------------+\n",
      "|tt0000001|       1|Карменсіта|    UA|      \\N|imdbDisplay|           \\N|              0|\n",
      "|tt0000001|       2|Carmencita|    DE|      \\N|         \\N|literal title|              0|\n",
      "+---------+--------+----------+------+--------+-----------+-------------+---------------+\n",
      "only showing top 2 rows\n",
      "\n"
     ]
    }
   ],
   "source": [
    "origins = sql.read.csv('title.akas.tsv', sep=r'\\t', header=True)\n",
    "origins.show(2)"
   ]
  },
  {
   "cell_type": "code",
   "execution_count": 9,
   "metadata": {},
   "outputs": [
    {
     "data": {
      "text/plain": [
       "[Row(language='en'),\n",
       " Row(language='cr'),\n",
       " Row(language='vi'),\n",
       " Row(language='ne'),\n",
       " Row(language='ps'),\n",
       " Row(language='qbo'),\n",
       " Row(language='sl'),\n",
       " Row(language='ro'),\n",
       " Row(language='uz'),\n",
       " Row(language='haw')]"
      ]
     },
     "execution_count": 9,
     "metadata": {},
     "output_type": "execute_result"
    }
   ],
   "source": [
    "origins.select('language').distinct().collect()[:10]"
   ]
  },
  {
   "cell_type": "code",
   "execution_count": 10,
   "metadata": {},
   "outputs": [
    {
     "data": {
      "text/plain": [
       "244250"
      ]
     },
     "execution_count": 10,
     "metadata": {},
     "output_type": "execute_result"
    }
   ],
   "source": [
    "origins = origins.filter(origins.language=='en')\n",
    "origins.count()"
   ]
  },
  {
   "cell_type": "code",
   "execution_count": 20,
   "metadata": {},
   "outputs": [],
   "source": [
    "origins = origins.withColumnRenamed(\"titleId\",\"tconst\")"
   ]
  },
  {
   "cell_type": "code",
   "execution_count": 21,
   "metadata": {},
   "outputs": [],
   "source": [
    "raitings = sql.read.csv('title.ratings.tsv', sep=r'\\t', header=True)"
   ]
  },
  {
   "cell_type": "code",
   "execution_count": 22,
   "metadata": {},
   "outputs": [],
   "source": [
    "raitings = raitings.filter(raitings['numVotes']>2500)"
   ]
  },
  {
   "cell_type": "code",
   "execution_count": 23,
   "metadata": {},
   "outputs": [],
   "source": [
    "full_df=origins.join(raitings, on=['tconst'], how='right')"
   ]
  },
  {
   "cell_type": "code",
   "execution_count": 26,
   "metadata": {},
   "outputs": [],
   "source": [
    "full_df = full_df.dropna()"
   ]
  },
  {
   "cell_type": "code",
   "execution_count": 27,
   "metadata": {},
   "outputs": [],
   "source": [
    "full_df=full_df.join(df, on=['tconst'], how='right')"
   ]
  },
  {
   "cell_type": "code",
   "execution_count": 31,
   "metadata": {},
   "outputs": [],
   "source": [
    "full_df = full_df.dropna()"
   ]
  },
  {
   "cell_type": "code",
   "execution_count": 32,
   "metadata": {},
   "outputs": [],
   "source": [
    "full_df.write.csv('filtered_imdb.csv',header=True)"
   ]
  },
  {
   "cell_type": "code",
   "execution_count": null,
   "metadata": {},
   "outputs": [],
   "source": []
  }
 ],
 "metadata": {
  "kernelspec": {
   "display_name": "Python 3",
   "language": "python",
   "name": "python3"
  },
  "language_info": {
   "codemirror_mode": {
    "name": "ipython",
    "version": 3
   },
   "file_extension": ".py",
   "mimetype": "text/x-python",
   "name": "python",
   "nbconvert_exporter": "python",
   "pygments_lexer": "ipython3",
   "version": "3.7.3"
  }
 },
 "nbformat": 4,
 "nbformat_minor": 4
}
